{
  "cells": [
    {
      "cell_type": "markdown",
      "metadata": {
        "id": "view-in-github",
        "colab_type": "text"
      },
      "source": [
        "<a href=\"https://colab.research.google.com/github/DexterfreaK/XGboostUrban/blob/master/XGBoost_using_dataframe.ipynb\" target=\"_parent\"><img src=\"https://colab.research.google.com/assets/colab-badge.svg\" alt=\"Open In Colab\"/></a>"
      ]
    },
    {
      "cell_type": "code",
      "execution_count": null,
      "metadata": {
        "colab": {
          "base_uri": "https://localhost:8080/"
        },
        "id": "feGwrtdTMNi_",
        "outputId": "667b8f47-6c4c-47cb-90c8-ec864363a921"
      },
      "outputs": [
        {
          "output_type": "stream",
          "name": "stdout",
          "text": [
            "Requirement already satisfied: gdal in /usr/local/lib/python3.10/dist-packages (3.3.2)\n"
          ]
        }
      ],
      "source": [
        "%pip install gdal"
      ]
    },
    {
      "cell_type": "code",
      "execution_count": null,
      "metadata": {
        "id": "31J_A2ytMPDx"
      },
      "outputs": [],
      "source": [
        "from osgeo import gdal\n",
        "from xgboost import XGBClassifier\n",
        "import pandas as pd\n",
        "import numpy as np\n",
        "import matplotlib.pyplot as plt\n",
        "from sklearn import tree\n",
        "from sklearn.model_selection import train_test_split\n",
        "from sklearn.tree import DecisionTreeRegressor\n"
      ]
    },
    {
      "cell_type": "code",
      "source": [
        "# All features in X imported and read as Array\n",
        "popden = gdal.Open(\"/content/drive/MyDrive/AdjustedData_23_metre_Resolution/popden.tif\")\n",
        "popden = popden.ReadAsArray()\n",
        "\n",
        "Slope = gdal.Open(\"/content/drive/MyDrive/AdjustedData_23_metre_Resolution/slope.tif\")\n",
        "Slope = Slope.ReadAsArray()\n",
        "\n",
        "Friction = gdal.Open(\"/content/drive/MyDrive/AdjustedData_23_metre_Resolution/friction.tif\")\n",
        "Friction = Friction.ReadAsArray()\n",
        "\n",
        "Elevation = gdal.Open(\"/content/drive/MyDrive/AdjustedData_23_metre_Resolution/elevation.tif\")\n",
        "Elevation = Elevation.ReadAsArray()\n",
        "\n",
        "\n",
        "gdp2005 = gdal.Open(\"/content/drive/MyDrive/AdjustedData_23_metre_Resolution/gdp2005.tif\")\n",
        "gdp2005 = gdp2005.ReadAsArray()\n",
        "\n",
        "floods = gdal.Open(\"/content/drive/MyDrive/AdjustedData_23_metre_Resolution/floods.tif\")\n",
        "floods = floods.ReadAsArray()\n",
        "\n",
        "accessibility = gdal.Open(\"/content/drive/MyDrive/AdjustedData_23_metre_Resolution/accessibility.tif\")\n",
        "accessibility = accessibility.ReadAsArray()\n",
        "\n",
        "builtup_05_06 = gdal.Open(\"/content/drive/MyDrive/AdjustedData_23_metre_Resolution/05_06_builtup.tif\")\n",
        "builtup_05_06 = builtup_05_06.ReadAsArray()\n",
        "\n",
        "# Required Shape checking for All features\n",
        "assert Slope.shape == popden.shape == Friction.shape == Elevation.shape == gdp2005.shape == floods.shape == accessibility.shape == builtup_05_06.shape\n",
        "\n",
        "(l,w) = Slope.shape\n",
        "\n",
        "# Reshaping the image to be a 1d Array\n",
        "Slope = np.reshape(Slope, (l*w,1))\n",
        "popden = np.reshape(popden, (l*w,1))\n",
        "Friction = np.reshape(Friction, (l*w,1))\n",
        "Elevation = np.reshape(Elevation, (l*w,1))\n",
        "floods = np.reshape(floods, (l*w,1))\n",
        "accessibility = np.reshape(accessibility, (l*w,1))\n",
        "builtup_05_06 = np.reshape(builtup_05_06, (l*w,1))\n",
        "gdp2005 = np.reshape(gdp2005, (l*w,1))\n"
      ],
      "metadata": {
        "colab": {
          "base_uri": "https://localhost:8080/"
        },
        "id": "7ih3cwrrO1Bu",
        "outputId": "be8c8eb0-15f7-415a-eaf8-e3c7f9b9e062"
      },
      "execution_count": null,
      "outputs": [
        {
          "output_type": "execute_result",
          "data": {
            "text/plain": [
              "array([[0.],\n",
              "       [0.],\n",
              "       [0.],\n",
              "       ...,\n",
              "       [0.],\n",
              "       [0.],\n",
              "       [0.]], dtype=float32)"
            ]
          },
          "metadata": {},
          "execution_count": 64
        }
      ]
    },
    {
      "cell_type": "code",
      "source": [
        "#Opening and Reading Y data\n",
        "Subtracted_builtup_05_06 = gdal.Open(\"/content/drive/MyDrive/AdjustedData_23_metre_Resolution/11_12_builtup.tif\")\n",
        "Subtracted_builtup_05_06 = Subtracted_builtup_05_06.ReadAsArray()\n",
        "\n",
        "assert Subtracted_builtup_05_06.shape == (l,w)\n",
        "\n",
        "#Opening and Reshaping the data\n",
        "Subtracted_builtup_05_06 = np.reshape(Subtracted_builtup_05_06, (l*w,1))"
      ],
      "metadata": {
        "id": "MyEKSThZddsV"
      },
      "execution_count": null,
      "outputs": []
    },
    {
      "cell_type": "code",
      "source": [
        "# Converting the array data to dataframe for both X and Y\n",
        "df = pd.DataFrame({\n",
        "    'Slope': Slope.flatten(),\n",
        "    'Elevation': Elevation.flatten(),\n",
        "    'PopDen': popden.flatten(),\n",
        "    'Friction': Friction.flatten(),\n",
        "    'Floods': floods.flatten(),\n",
        "    'Accessibility': accessibility.flatten(),\n",
        "    'Gdp2005': gdp2005.flatten(),\n",
        "    'builtup_05_06': builtup_05_06.flatten(),\n",
        "    'Y_Subtracted_builtup_11_05': Subtracted_builtup_05_06.flatten(),\n",
        "})\n"
      ],
      "metadata": {
        "id": "CYdH3lvIZhvp"
      },
      "execution_count": null,
      "outputs": []
    },
    {
      "cell_type": "code",
      "source": [
        "df.describe()"
      ],
      "metadata": {
        "colab": {
          "base_uri": "https://localhost:8080/",
          "height": 364
        },
        "id": "mkgxkpLYekCJ",
        "outputId": "c204f6e6-7288-444f-d8e6-3e5aba8a8040"
      },
      "execution_count": null,
      "outputs": [
        {
          "output_type": "execute_result",
          "data": {
            "text/plain": [
              "              Slope     Elevation        PopDen      Friction        Floods  \\\n",
              "count  3.331200e+06  3.331200e+06  3.256383e+06  3.331200e+06  3.331200e+06   \n",
              "mean            NaN          -inf  7.454635e-02          -inf          -inf   \n",
              "std             inf           inf  1.540960e-01           inf           inf   \n",
              "min   -3.402823e+38 -3.402823e+38  0.000000e+00 -3.402823e+38 -3.402823e+38   \n",
              "25%    8.433329e-01  8.701493e-01  0.000000e+00  8.396575e-01 -3.402823e+38   \n",
              "50%    9.840268e-01  9.253731e-01  0.000000e+00  9.809301e-01  3.482746e-01   \n",
              "75%    1.000000e+00  1.000000e+00  8.384361e-02  1.000000e+00  1.000000e+00   \n",
              "max    3.400000e+38  1.000000e+00  1.000000e+00  1.000000e+00  1.000000e+00   \n",
              "\n",
              "       Accessibility       Gdp2005  builtup_05_06  Y_Subtracted_builtup_11_05  \n",
              "count   3.331200e+06  2.002123e+06   3.331200e+06                3.331200e+06  \n",
              "mean            -inf  1.777354e-01   7.026747e-02                7.125600e-02  \n",
              "std              inf  2.715401e-01   2.555973e-01                2.572520e-01  \n",
              "min    -3.402823e+38  0.000000e+00   0.000000e+00                0.000000e+00  \n",
              "25%     7.584229e-01  1.772051e-02   0.000000e+00                0.000000e+00  \n",
              "50%     9.119344e-01  4.634973e-02   0.000000e+00                0.000000e+00  \n",
              "75%     1.000000e+00  1.996024e-01   0.000000e+00                0.000000e+00  \n",
              "max     1.000000e+00  1.000000e+00   1.000000e+00                1.000000e+00  "
            ],
            "text/html": [
              "\n",
              "  <div id=\"df-535ee337-c626-4158-8f62-4450166cc7d7\">\n",
              "    <div class=\"colab-df-container\">\n",
              "      <div>\n",
              "<style scoped>\n",
              "    .dataframe tbody tr th:only-of-type {\n",
              "        vertical-align: middle;\n",
              "    }\n",
              "\n",
              "    .dataframe tbody tr th {\n",
              "        vertical-align: top;\n",
              "    }\n",
              "\n",
              "    .dataframe thead th {\n",
              "        text-align: right;\n",
              "    }\n",
              "</style>\n",
              "<table border=\"1\" class=\"dataframe\">\n",
              "  <thead>\n",
              "    <tr style=\"text-align: right;\">\n",
              "      <th></th>\n",
              "      <th>Slope</th>\n",
              "      <th>Elevation</th>\n",
              "      <th>PopDen</th>\n",
              "      <th>Friction</th>\n",
              "      <th>Floods</th>\n",
              "      <th>Accessibility</th>\n",
              "      <th>Gdp2005</th>\n",
              "      <th>builtup_05_06</th>\n",
              "      <th>Y_Subtracted_builtup_11_05</th>\n",
              "    </tr>\n",
              "  </thead>\n",
              "  <tbody>\n",
              "    <tr>\n",
              "      <th>count</th>\n",
              "      <td>3.331200e+06</td>\n",
              "      <td>3.331200e+06</td>\n",
              "      <td>3.256383e+06</td>\n",
              "      <td>3.331200e+06</td>\n",
              "      <td>3.331200e+06</td>\n",
              "      <td>3.331200e+06</td>\n",
              "      <td>2.002123e+06</td>\n",
              "      <td>3.331200e+06</td>\n",
              "      <td>3.331200e+06</td>\n",
              "    </tr>\n",
              "    <tr>\n",
              "      <th>mean</th>\n",
              "      <td>NaN</td>\n",
              "      <td>-inf</td>\n",
              "      <td>7.454635e-02</td>\n",
              "      <td>-inf</td>\n",
              "      <td>-inf</td>\n",
              "      <td>-inf</td>\n",
              "      <td>1.777354e-01</td>\n",
              "      <td>7.026747e-02</td>\n",
              "      <td>7.125600e-02</td>\n",
              "    </tr>\n",
              "    <tr>\n",
              "      <th>std</th>\n",
              "      <td>inf</td>\n",
              "      <td>inf</td>\n",
              "      <td>1.540960e-01</td>\n",
              "      <td>inf</td>\n",
              "      <td>inf</td>\n",
              "      <td>inf</td>\n",
              "      <td>2.715401e-01</td>\n",
              "      <td>2.555973e-01</td>\n",
              "      <td>2.572520e-01</td>\n",
              "    </tr>\n",
              "    <tr>\n",
              "      <th>min</th>\n",
              "      <td>-3.402823e+38</td>\n",
              "      <td>-3.402823e+38</td>\n",
              "      <td>0.000000e+00</td>\n",
              "      <td>-3.402823e+38</td>\n",
              "      <td>-3.402823e+38</td>\n",
              "      <td>-3.402823e+38</td>\n",
              "      <td>0.000000e+00</td>\n",
              "      <td>0.000000e+00</td>\n",
              "      <td>0.000000e+00</td>\n",
              "    </tr>\n",
              "    <tr>\n",
              "      <th>25%</th>\n",
              "      <td>8.433329e-01</td>\n",
              "      <td>8.701493e-01</td>\n",
              "      <td>0.000000e+00</td>\n",
              "      <td>8.396575e-01</td>\n",
              "      <td>-3.402823e+38</td>\n",
              "      <td>7.584229e-01</td>\n",
              "      <td>1.772051e-02</td>\n",
              "      <td>0.000000e+00</td>\n",
              "      <td>0.000000e+00</td>\n",
              "    </tr>\n",
              "    <tr>\n",
              "      <th>50%</th>\n",
              "      <td>9.840268e-01</td>\n",
              "      <td>9.253731e-01</td>\n",
              "      <td>0.000000e+00</td>\n",
              "      <td>9.809301e-01</td>\n",
              "      <td>3.482746e-01</td>\n",
              "      <td>9.119344e-01</td>\n",
              "      <td>4.634973e-02</td>\n",
              "      <td>0.000000e+00</td>\n",
              "      <td>0.000000e+00</td>\n",
              "    </tr>\n",
              "    <tr>\n",
              "      <th>75%</th>\n",
              "      <td>1.000000e+00</td>\n",
              "      <td>1.000000e+00</td>\n",
              "      <td>8.384361e-02</td>\n",
              "      <td>1.000000e+00</td>\n",
              "      <td>1.000000e+00</td>\n",
              "      <td>1.000000e+00</td>\n",
              "      <td>1.996024e-01</td>\n",
              "      <td>0.000000e+00</td>\n",
              "      <td>0.000000e+00</td>\n",
              "    </tr>\n",
              "    <tr>\n",
              "      <th>max</th>\n",
              "      <td>3.400000e+38</td>\n",
              "      <td>1.000000e+00</td>\n",
              "      <td>1.000000e+00</td>\n",
              "      <td>1.000000e+00</td>\n",
              "      <td>1.000000e+00</td>\n",
              "      <td>1.000000e+00</td>\n",
              "      <td>1.000000e+00</td>\n",
              "      <td>1.000000e+00</td>\n",
              "      <td>1.000000e+00</td>\n",
              "    </tr>\n",
              "  </tbody>\n",
              "</table>\n",
              "</div>\n",
              "      <button class=\"colab-df-convert\" onclick=\"convertToInteractive('df-535ee337-c626-4158-8f62-4450166cc7d7')\"\n",
              "              title=\"Convert this dataframe to an interactive table.\"\n",
              "              style=\"display:none;\">\n",
              "        \n",
              "  <svg xmlns=\"http://www.w3.org/2000/svg\" height=\"24px\"viewBox=\"0 0 24 24\"\n",
              "       width=\"24px\">\n",
              "    <path d=\"M0 0h24v24H0V0z\" fill=\"none\"/>\n",
              "    <path d=\"M18.56 5.44l.94 2.06.94-2.06 2.06-.94-2.06-.94-.94-2.06-.94 2.06-2.06.94zm-11 1L8.5 8.5l.94-2.06 2.06-.94-2.06-.94L8.5 2.5l-.94 2.06-2.06.94zm10 10l.94 2.06.94-2.06 2.06-.94-2.06-.94-.94-2.06-.94 2.06-2.06.94z\"/><path d=\"M17.41 7.96l-1.37-1.37c-.4-.4-.92-.59-1.43-.59-.52 0-1.04.2-1.43.59L10.3 9.45l-7.72 7.72c-.78.78-.78 2.05 0 2.83L4 21.41c.39.39.9.59 1.41.59.51 0 1.02-.2 1.41-.59l7.78-7.78 2.81-2.81c.8-.78.8-2.07 0-2.86zM5.41 20L4 18.59l7.72-7.72 1.47 1.35L5.41 20z\"/>\n",
              "  </svg>\n",
              "      </button>\n",
              "      \n",
              "  <style>\n",
              "    .colab-df-container {\n",
              "      display:flex;\n",
              "      flex-wrap:wrap;\n",
              "      gap: 12px;\n",
              "    }\n",
              "\n",
              "    .colab-df-convert {\n",
              "      background-color: #E8F0FE;\n",
              "      border: none;\n",
              "      border-radius: 50%;\n",
              "      cursor: pointer;\n",
              "      display: none;\n",
              "      fill: #1967D2;\n",
              "      height: 32px;\n",
              "      padding: 0 0 0 0;\n",
              "      width: 32px;\n",
              "    }\n",
              "\n",
              "    .colab-df-convert:hover {\n",
              "      background-color: #E2EBFA;\n",
              "      box-shadow: 0px 1px 2px rgba(60, 64, 67, 0.3), 0px 1px 3px 1px rgba(60, 64, 67, 0.15);\n",
              "      fill: #174EA6;\n",
              "    }\n",
              "\n",
              "    [theme=dark] .colab-df-convert {\n",
              "      background-color: #3B4455;\n",
              "      fill: #D2E3FC;\n",
              "    }\n",
              "\n",
              "    [theme=dark] .colab-df-convert:hover {\n",
              "      background-color: #434B5C;\n",
              "      box-shadow: 0px 1px 3px 1px rgba(0, 0, 0, 0.15);\n",
              "      filter: drop-shadow(0px 1px 2px rgba(0, 0, 0, 0.3));\n",
              "      fill: #FFFFFF;\n",
              "    }\n",
              "  </style>\n",
              "\n",
              "      <script>\n",
              "        const buttonEl =\n",
              "          document.querySelector('#df-535ee337-c626-4158-8f62-4450166cc7d7 button.colab-df-convert');\n",
              "        buttonEl.style.display =\n",
              "          google.colab.kernel.accessAllowed ? 'block' : 'none';\n",
              "\n",
              "        async function convertToInteractive(key) {\n",
              "          const element = document.querySelector('#df-535ee337-c626-4158-8f62-4450166cc7d7');\n",
              "          const dataTable =\n",
              "            await google.colab.kernel.invokeFunction('convertToInteractive',\n",
              "                                                     [key], {});\n",
              "          if (!dataTable) return;\n",
              "\n",
              "          const docLinkHtml = 'Like what you see? Visit the ' +\n",
              "            '<a target=\"_blank\" href=https://colab.research.google.com/notebooks/data_table.ipynb>data table notebook</a>'\n",
              "            + ' to learn more about interactive tables.';\n",
              "          element.innerHTML = '';\n",
              "          dataTable['output_type'] = 'display_data';\n",
              "          await google.colab.output.renderOutput(dataTable, element);\n",
              "          const docLink = document.createElement('div');\n",
              "          docLink.innerHTML = docLinkHtml;\n",
              "          element.appendChild(docLink);\n",
              "        }\n",
              "      </script>\n",
              "    </div>\n",
              "  </div>\n",
              "  "
            ]
          },
          "metadata": {},
          "execution_count": 112
        }
      ]
    },
    {
      "cell_type": "code",
      "execution_count": null,
      "metadata": {
        "id": "fhjUphw2Mt4M"
      },
      "outputs": [],
      "source": [
        "# dropping Y from X\n",
        "X = df.drop('Y_Subtracted_builtup_11_05', axis=1)\n",
        "Y = df['Y_Subtracted_builtup_11_05']"
      ]
    },
    {
      "cell_type": "code",
      "source": [
        "X_train, X_test, y_train, y_test = train_test_split(X, Y, random_state=0, train_size = .80)"
      ],
      "metadata": {
        "id": "lF4Cti7zEAil"
      },
      "execution_count": null,
      "outputs": []
    },
    {
      "cell_type": "code",
      "execution_count": null,
      "metadata": {
        "id": "M-mLRLeZN62g"
      },
      "outputs": [],
      "source": [
        "params = {\n",
        "            'max_depth': 6,\n",
        "            'learning_rate': .01,\n",
        "        }\n",
        "\n",
        "xgb_model=XGBClassifier(**params)\n",
        "model=xgb_model.fit(X_train,y_train)"
      ]
    },
    {
      "cell_type": "code",
      "source": [
        "# Predicting the Test set results\n",
        "y_pred = model.predict(X_test)"
      ],
      "metadata": {
        "id": "8ZpvBMroUZgR"
      },
      "execution_count": null,
      "outputs": []
    },
    {
      "cell_type": "code",
      "source": [
        "#Import some metrics.\n",
        "from sklearn.metrics import precision_score, recall_score, accuracy_score\n",
        "print(\"Precision = {}\".format(precision_score(y_test, y_pred, average='macro')))\n",
        "print(\"Recall = {}\".format(recall_score(y_test, y_pred, average='macro')))\n",
        "print(\"Accuracy = {}\".format(accuracy_score(y_test, y_pred)))\n"
      ],
      "metadata": {
        "id": "cbRgg17TUZ8C",
        "colab": {
          "base_uri": "https://localhost:8080/"
        },
        "outputId": "ec394cdb-7138-4f42-b9e4-179148e07ead"
      },
      "execution_count": null,
      "outputs": [
        {
          "output_type": "stream",
          "name": "stdout",
          "text": [
            "Precision = 0.9554325353509667\n",
            "Recall = 0.9306795363521796\n",
            "Accuracy = 0.9851029658981748\n"
          ]
        }
      ]
    },
    {
      "cell_type": "code",
      "source": [
        "from xgboost import plot_importance\n",
        "plot_importance(xgb_model)"
      ],
      "metadata": {
        "id": "HKFIhp8_UkWi",
        "colab": {
          "base_uri": "https://localhost:8080/",
          "height": 490
        },
        "outputId": "003eccff-a50e-4c49-ad76-a59a28cd971c"
      },
      "execution_count": null,
      "outputs": [
        {
          "output_type": "execute_result",
          "data": {
            "text/plain": [
              "<Axes: title={'center': 'Feature importance'}, xlabel='F score', ylabel='Features'>"
            ]
          },
          "metadata": {},
          "execution_count": 118
        },
        {
          "output_type": "display_data",
          "data": {
            "text/plain": [
              "<Figure size 640x480 with 1 Axes>"
            ],
            "image/png": "[encoded data removed]"
          },
          "metadata": {}
        }
      ]
    },
    {
      "cell_type": "code",
      "source": [
        "y_pred = model.predict(X)"
      ],
      "metadata": {
        "id": "zNHWhmf5t4gi"
      },
      "execution_count": null,
      "outputs": []
    },
    {
      "cell_type": "code",
      "source": [
        "y_pred = np.reshape(y_pred,(l,w))\n",
        "y_pred.shape"
      ],
      "metadata": {
        "colab": {
          "base_uri": "https://localhost:8080/"
        },
        "id": "8YN2fNu1uDnt",
        "outputId": "340c92a0-95b4-488c-85e4-c13546a3f51e"
      },
      "execution_count": null,
      "outputs": [
        {
          "output_type": "execute_result",
          "data": {
            "text/plain": [
              "(1200, 2776)"
            ]
          },
          "metadata": {},
          "execution_count": 123
        }
      ]
    },
    {
      "cell_type": "code",
      "source": [],
      "metadata": {
        "id": "VQBNwvRQvCfI"
      },
      "execution_count": null,
      "outputs": []
    }
  ],
  "metadata": {
    "colab": {
      "provenance": [],
      "gpuType": "T4",
      "toc_visible": true,
      "include_colab_link": true
    },
    "kernelspec": {
      "display_name": "Python 3",
      "name": "python3"
    },
    "language_info": {
      "name": "python"
    },
    "accelerator": "GPU"
  },
  "nbformat": 4,
  "nbformat_minor": 0
}