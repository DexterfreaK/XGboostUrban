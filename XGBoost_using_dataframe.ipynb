{
  "cells": [
    {
      "cell_type": "markdown",
      "metadata": {
        "id": "view-in-github",
        "colab_type": "text"
      },
      "source": [
        "<a href=\"https://colab.research.google.com/github/DexterfreaK/XGboostUrban/blob/master/XGBoost_using_dataframe.ipynb\" target=\"_parent\"><img src=\"https://colab.research.google.com/assets/colab-badge.svg\" alt=\"Open In Colab\"/></a>"
      ]
    },
    {
      "cell_type": "code",
      "execution_count": 31,
      "metadata": {
        "colab": {
          "base_uri": "https://localhost:8080/"
        },
        "id": "feGwrtdTMNi_",
        "outputId": "895132d3-d8b1-42bd-c4ec-25f2870770de"
      },
      "outputs": [
        {
          "output_type": "stream",
          "name": "stdout",
          "text": [
            "Requirement already satisfied: gdal in /usr/local/lib/python3.10/dist-packages (3.3.2)\n"
          ]
        }
      ],
      "source": [
        "%pip install gdal"
      ]
    },
    {
      "cell_type": "code",
      "execution_count": 32,
      "metadata": {
        "id": "31J_A2ytMPDx"
      },
      "outputs": [],
      "source": [
        "from osgeo import gdal\n",
        "from xgboost import XGBClassifier\n",
        "import pandas as pd\n",
        "import numpy as np\n",
        "import matplotlib.pyplot as plt\n",
        "from sklearn import tree\n",
        "from sklearn.model_selection import train_test_split\n",
        "from sklearn.tree import DecisionTreeRegressor"
      ]
    },
    {
      "cell_type": "code",
      "execution_count": 33,
      "metadata": {
        "id": "7ih3cwrrO1Bu"
      },
      "outputs": [],
      "source": [
        "# All features in X imported and read as Array\n",
        "\n",
        "popden = gdal.Open(\"/content/drive/MyDrive/AdjustedData_23_metre_Resolution/popden.tif\")\n",
        "popden = popden.ReadAsArray()\n",
        "popden = np.where(popden < 0 , np.nan, popden)\n",
        "\n",
        "Slope = gdal.Open(\"/content/drive/MyDrive/AdjustedData_23_metre_Resolution/slope.tif\")\n",
        "Slope = Slope.ReadAsArray()\n",
        "Slope = Slope / np.max(Slope)\n",
        "Slope = np.where(Slope < 0, np.nan, Slope)\n",
        "\n",
        "Friction = gdal.Open(\"/content/drive/MyDrive/AdjustedData_23_metre_Resolution/friction.tif\")\n",
        "Friction = Friction.ReadAsArray()\n",
        "Friction = np.where(Friction < 0 , np.nan, Friction)\n",
        "\n",
        "Elevation = gdal.Open(\"/content/drive/MyDrive/AdjustedData_23_metre_Resolution/elevation.tif\")\n",
        "Elevation = Elevation.ReadAsArray()\n",
        "Elevation = np.where(Elevation < 0 , np.nan, Elevation)\n",
        "\n",
        "gdp2005 = gdal.Open(\"/content/drive/MyDrive/AdjustedData_23_metre_Resolution/gdp2005.tif\")\n",
        "gdp2005 = gdp2005.ReadAsArray()\n",
        "gdp2005 = np.where(gdp2005 < 0 , np.nan, gdp2005)\n",
        "\n",
        "\n",
        "floods = gdal.Open(\"/content/drive/MyDrive/AdjustedData_23_metre_Resolution/floods.tif\")\n",
        "floods = floods.ReadAsArray()\n",
        "floods = np.where(floods < 0 , np.nan, floods)\n",
        "\n",
        "accessibility = gdal.Open(\"/content/drive/MyDrive/AdjustedData_23_metre_Resolution/accessibility.tif\")\n",
        "accessibility = accessibility.ReadAsArray()\n",
        "accessibility = np.where(accessibility < 0 , np.nan, accessibility)\n",
        "\n",
        "builtup_05_06 = gdal.Open(\"/content/drive/MyDrive/AdjustedData_23_metre_Resolution/05_06_builtup.tif\")\n",
        "builtup_05_06 = builtup_05_06.ReadAsArray()\n",
        "builtup_05_06 = np.where(builtup_05_06 < 0 , np.nan, builtup_05_06)\n",
        "\n",
        "# Required Shape checking for All features\n",
        "assert Slope.shape == popden.shape == Friction.shape == Elevation.shape == gdp2005.shape == floods.shape == accessibility.shape == builtup_05_06.shape\n",
        "\n",
        "(l,w) = Slope.shape\n",
        "\n",
        "# Reshaping the image to be a 1d Array\n",
        "Slope = np.reshape(Slope, (l*w,1))\n",
        "popden = np.reshape(popden, (l*w,1))\n",
        "Friction = np.reshape(Friction, (l*w,1))\n",
        "Elevation = np.reshape(Elevation, (l*w,1))\n",
        "floods = np.reshape(floods, (l*w,1))\n",
        "accessibility = np.reshape(accessibility, (l*w,1))\n",
        "builtup_05_06 = np.reshape(builtup_05_06, (l*w,1))\n",
        "gdp2005 = np.reshape(gdp2005, (l*w,1))\n"
      ]
    },
    {
      "cell_type": "code",
      "execution_count": 34,
      "metadata": {
        "id": "7G_8vTG1Uy6m"
      },
      "outputs": [],
      "source": [
        "# Slope_data = gdal.Open(\"/content/drive/MyDrive/AdjustedData_23_metre_Resolution/slope.tif\")\n",
        "# Slope = Slope_data.ReadAsArray()\n",
        "# # Slope = Slope / np.max(Slope)\n",
        "# # Slope = np.where(Slope < 0, np.nan, Slope)\n",
        "\n",
        "\n",
        "# write_geotiff('Slope.tiff',Slope,Slope_data)"
      ]
    },
    {
      "cell_type": "code",
      "execution_count": 35,
      "metadata": {
        "id": "MyEKSThZddsV"
      },
      "outputs": [],
      "source": [
        "#Opening and Reading Y data\n",
        "Subtracted_builtup_05_06_gdal_data = gdal.Open(\"/content/drive/MyDrive/AdjustedData_23_metre_Resolution/11_12_builtup.tif\")\n",
        "Subtracted_builtup_05_06 = Subtracted_builtup_05_06_gdal_data.ReadAsArray()\n",
        "Subtracted_builtup_05_06 = np.where(Subtracted_builtup_05_06 < 0 , np.nan, Subtracted_builtup_05_06)\n",
        "\n",
        "assert Subtracted_builtup_05_06.shape == (l,w)\n",
        "\n",
        "#Opening and Reshaping the data\n",
        "Subtracted_builtup_05_06 = np.reshape(Subtracted_builtup_05_06, (l*w,1))"
      ]
    },
    {
      "cell_type": "code",
      "execution_count": 36,
      "metadata": {
        "id": "CYdH3lvIZhvp"
      },
      "outputs": [],
      "source": [
        "# Converting the array data to dataframe for both X and Y\n",
        "df = pd.DataFrame({\n",
        "    'Slope': Slope.flatten(),\n",
        "    'Elevation': Elevation.flatten(),\n",
        "    'PopDen': popden.flatten(),\n",
        "    'Friction': Friction.flatten(),\n",
        "    'Floods': floods.flatten(),\n",
        "    'Accessibility': accessibility.flatten(),\n",
        "    'Gdp2005': gdp2005.flatten(),\n",
        "    'builtup_05_06': builtup_05_06.flatten(),\n",
        "    'Y_Subtracted_builtup_11_05': Subtracted_builtup_05_06.flatten(),\n",
        "})\n"
      ]
    },
    {
      "cell_type": "code",
      "execution_count": 37,
      "metadata": {
        "colab": {
          "base_uri": "https://localhost:8080/",
          "height": 364
        },
        "id": "mkgxkpLYekCJ",
        "outputId": "578f6d8d-79e1-4113-db5d-105d9230f48e"
      },
      "outputs": [
        {
          "output_type": "execute_result",
          "data": {
            "text/plain": [
              "              Slope     Elevation        PopDen      Friction        Floods  \\\n",
              "count  3.286406e+06  3.304610e+06  3.256383e+06  3.151029e+06  1.807469e+06   \n",
              "mean   8.173062e-04  8.932072e-01  7.454635e-02  9.203656e-01  8.886334e-01   \n",
              "std    2.857689e-02  1.544069e-01  1.540960e-01  1.547747e-01  2.471501e-01   \n",
              "min    0.000000e+00  0.000000e+00  0.000000e+00  1.926445e-02  0.000000e+00   \n",
              "25%    2.533235e-39  8.791045e-01  0.000000e+00  9.616657e-01  1.000000e+00   \n",
              "50%    2.894197e-39  9.268657e-01  0.000000e+00  9.871570e-01  1.000000e+00   \n",
              "75%    2.941177e-39  1.000000e+00  8.384361e-02  1.000000e+00  1.000000e+00   \n",
              "max    1.000000e+00  1.000000e+00  1.000000e+00  1.000000e+00  1.000000e+00   \n",
              "\n",
              "       Accessibility       Gdp2005  builtup_05_06  Y_Subtracted_builtup_11_05  \n",
              "count   3.167730e+06  2.002123e+06   3.331200e+06                3.331200e+06  \n",
              "mean    8.687662e-01  1.777354e-01   7.026747e-02                7.125600e-02  \n",
              "std     1.686289e-01  2.715401e-01   2.555973e-01                2.572520e-01  \n",
              "min     0.000000e+00  0.000000e+00   0.000000e+00                0.000000e+00  \n",
              "25%     7.885317e-01  1.772051e-02   0.000000e+00                0.000000e+00  \n",
              "50%     9.208127e-01  4.634973e-02   0.000000e+00                0.000000e+00  \n",
              "75%     1.000000e+00  1.996024e-01   0.000000e+00                0.000000e+00  \n",
              "max     1.000000e+00  1.000000e+00   1.000000e+00                1.000000e+00  "
            ],
            "text/html": [
              "\n",
              "  <div id=\"df-1c02aca4-99e8-4677-b38d-822c56a5c257\">\n",
              "    <div class=\"colab-df-container\">\n",
              "      <div>\n",
              "<style scoped>\n",
              "    .dataframe tbody tr th:only-of-type {\n",
              "        vertical-align: middle;\n",
              "    }\n",
              "\n",
              "    .dataframe tbody tr th {\n",
              "        vertical-align: top;\n",
              "    }\n",
              "\n",
              "    .dataframe thead th {\n",
              "        text-align: right;\n",
              "    }\n",
              "</style>\n",
              "<table border=\"1\" class=\"dataframe\">\n",
              "  <thead>\n",
              "    <tr style=\"text-align: right;\">\n",
              "      <th></th>\n",
              "      <th>Slope</th>\n",
              "      <th>Elevation</th>\n",
              "      <th>PopDen</th>\n",
              "      <th>Friction</th>\n",
              "      <th>Floods</th>\n",
              "      <th>Accessibility</th>\n",
              "      <th>Gdp2005</th>\n",
              "      <th>builtup_05_06</th>\n",
              "      <th>Y_Subtracted_builtup_11_05</th>\n",
              "    </tr>\n",
              "  </thead>\n",
              "  <tbody>\n",
              "    <tr>\n",
              "      <th>count</th>\n",
              "      <td>3.286406e+06</td>\n",
              "      <td>3.304610e+06</td>\n",
              "      <td>3.256383e+06</td>\n",
              "      <td>3.151029e+06</td>\n",
              "      <td>1.807469e+06</td>\n",
              "      <td>3.167730e+06</td>\n",
              "      <td>2.002123e+06</td>\n",
              "      <td>3.331200e+06</td>\n",
              "      <td>3.331200e+06</td>\n",
              "    </tr>\n",
              "    <tr>\n",
              "      <th>mean</th>\n",
              "      <td>8.173062e-04</td>\n",
              "      <td>8.932072e-01</td>\n",
              "      <td>7.454635e-02</td>\n",
              "      <td>9.203656e-01</td>\n",
              "      <td>8.886334e-01</td>\n",
              "      <td>8.687662e-01</td>\n",
              "      <td>1.777354e-01</td>\n",
              "      <td>7.026747e-02</td>\n",
              "      <td>7.125600e-02</td>\n",
              "    </tr>\n",
              "    <tr>\n",
              "      <th>std</th>\n",
              "      <td>2.857689e-02</td>\n",
              "      <td>1.544069e-01</td>\n",
              "      <td>1.540960e-01</td>\n",
              "      <td>1.547747e-01</td>\n",
              "      <td>2.471501e-01</td>\n",
              "      <td>1.686289e-01</td>\n",
              "      <td>2.715401e-01</td>\n",
              "      <td>2.555973e-01</td>\n",
              "      <td>2.572520e-01</td>\n",
              "    </tr>\n",
              "    <tr>\n",
              "      <th>min</th>\n",
              "      <td>0.000000e+00</td>\n",
              "      <td>0.000000e+00</td>\n",
              "      <td>0.000000e+00</td>\n",
              "      <td>1.926445e-02</td>\n",
              "      <td>0.000000e+00</td>\n",
              "      <td>0.000000e+00</td>\n",
              "      <td>0.000000e+00</td>\n",
              "      <td>0.000000e+00</td>\n",
              "      <td>0.000000e+00</td>\n",
              "    </tr>\n",
              "    <tr>\n",
              "      <th>25%</th>\n",
              "      <td>2.533235e-39</td>\n",
              "      <td>8.791045e-01</td>\n",
              "      <td>0.000000e+00</td>\n",
              "      <td>9.616657e-01</td>\n",
              "      <td>1.000000e+00</td>\n",
              "      <td>7.885317e-01</td>\n",
              "      <td>1.772051e-02</td>\n",
              "      <td>0.000000e+00</td>\n",
              "      <td>0.000000e+00</td>\n",
              "    </tr>\n",
              "    <tr>\n",
              "      <th>50%</th>\n",
              "      <td>2.894197e-39</td>\n",
              "      <td>9.268657e-01</td>\n",
              "      <td>0.000000e+00</td>\n",
              "      <td>9.871570e-01</td>\n",
              "      <td>1.000000e+00</td>\n",
              "      <td>9.208127e-01</td>\n",
              "      <td>4.634973e-02</td>\n",
              "      <td>0.000000e+00</td>\n",
              "      <td>0.000000e+00</td>\n",
              "    </tr>\n",
              "    <tr>\n",
              "      <th>75%</th>\n",
              "      <td>2.941177e-39</td>\n",
              "      <td>1.000000e+00</td>\n",
              "      <td>8.384361e-02</td>\n",
              "      <td>1.000000e+00</td>\n",
              "      <td>1.000000e+00</td>\n",
              "      <td>1.000000e+00</td>\n",
              "      <td>1.996024e-01</td>\n",
              "      <td>0.000000e+00</td>\n",
              "      <td>0.000000e+00</td>\n",
              "    </tr>\n",
              "    <tr>\n",
              "      <th>max</th>\n",
              "      <td>1.000000e+00</td>\n",
              "      <td>1.000000e+00</td>\n",
              "      <td>1.000000e+00</td>\n",
              "      <td>1.000000e+00</td>\n",
              "      <td>1.000000e+00</td>\n",
              "      <td>1.000000e+00</td>\n",
              "      <td>1.000000e+00</td>\n",
              "      <td>1.000000e+00</td>\n",
              "      <td>1.000000e+00</td>\n",
              "    </tr>\n",
              "  </tbody>\n",
              "</table>\n",
              "</div>\n",
              "      <button class=\"colab-df-convert\" onclick=\"convertToInteractive('df-1c02aca4-99e8-4677-b38d-822c56a5c257')\"\n",
              "              title=\"Convert this dataframe to an interactive table.\"\n",
              "              style=\"display:none;\">\n",
              "        \n",
              "  <svg xmlns=\"http://www.w3.org/2000/svg\" height=\"24px\"viewBox=\"0 0 24 24\"\n",
              "       width=\"24px\">\n",
              "    <path d=\"M0 0h24v24H0V0z\" fill=\"none\"/>\n",
              "    <path d=\"M18.56 5.44l.94 2.06.94-2.06 2.06-.94-2.06-.94-.94-2.06-.94 2.06-2.06.94zm-11 1L8.5 8.5l.94-2.06 2.06-.94-2.06-.94L8.5 2.5l-.94 2.06-2.06.94zm10 10l.94 2.06.94-2.06 2.06-.94-2.06-.94-.94-2.06-.94 2.06-2.06.94z\"/><path d=\"M17.41 7.96l-1.37-1.37c-.4-.4-.92-.59-1.43-.59-.52 0-1.04.2-1.43.59L10.3 9.45l-7.72 7.72c-.78.78-.78 2.05 0 2.83L4 21.41c.39.39.9.59 1.41.59.51 0 1.02-.2 1.41-.59l7.78-7.78 2.81-2.81c.8-.78.8-2.07 0-2.86zM5.41 20L4 18.59l7.72-7.72 1.47 1.35L5.41 20z\"/>\n",
              "  </svg>\n",
              "      </button>\n",
              "      \n",
              "  <style>\n",
              "    .colab-df-container {\n",
              "      display:flex;\n",
              "      flex-wrap:wrap;\n",
              "      gap: 12px;\n",
              "    }\n",
              "\n",
              "    .colab-df-convert {\n",
              "      background-color: #E8F0FE;\n",
              "      border: none;\n",
              "      border-radius: 50%;\n",
              "      cursor: pointer;\n",
              "      display: none;\n",
              "      fill: #1967D2;\n",
              "      height: 32px;\n",
              "      padding: 0 0 0 0;\n",
              "      width: 32px;\n",
              "    }\n",
              "\n",
              "    .colab-df-convert:hover {\n",
              "      background-color: #E2EBFA;\n",
              "      box-shadow: 0px 1px 2px rgba(60, 64, 67, 0.3), 0px 1px 3px 1px rgba(60, 64, 67, 0.15);\n",
              "      fill: #174EA6;\n",
              "    }\n",
              "\n",
              "    [theme=dark] .colab-df-convert {\n",
              "      background-color: #3B4455;\n",
              "      fill: #D2E3FC;\n",
              "    }\n",
              "\n",
              "    [theme=dark] .colab-df-convert:hover {\n",
              "      background-color: #434B5C;\n",
              "      box-shadow: 0px 1px 3px 1px rgba(0, 0, 0, 0.15);\n",
              "      filter: drop-shadow(0px 1px 2px rgba(0, 0, 0, 0.3));\n",
              "      fill: #FFFFFF;\n",
              "    }\n",
              "  </style>\n",
              "\n",
              "      <script>\n",
              "        const buttonEl =\n",
              "          document.querySelector('#df-1c02aca4-99e8-4677-b38d-822c56a5c257 button.colab-df-convert');\n",
              "        buttonEl.style.display =\n",
              "          google.colab.kernel.accessAllowed ? 'block' : 'none';\n",
              "\n",
              "        async function convertToInteractive(key) {\n",
              "          const element = document.querySelector('#df-1c02aca4-99e8-4677-b38d-822c56a5c257');\n",
              "          const dataTable =\n",
              "            await google.colab.kernel.invokeFunction('convertToInteractive',\n",
              "                                                     [key], {});\n",
              "          if (!dataTable) return;\n",
              "\n",
              "          const docLinkHtml = 'Like what you see? Visit the ' +\n",
              "            '<a target=\"_blank\" href=https://colab.research.google.com/notebooks/data_table.ipynb>data table notebook</a>'\n",
              "            + ' to learn more about interactive tables.';\n",
              "          element.innerHTML = '';\n",
              "          dataTable['output_type'] = 'display_data';\n",
              "          await google.colab.output.renderOutput(dataTable, element);\n",
              "          const docLink = document.createElement('div');\n",
              "          docLink.innerHTML = docLinkHtml;\n",
              "          element.appendChild(docLink);\n",
              "        }\n",
              "      </script>\n",
              "    </div>\n",
              "  </div>\n",
              "  "
            ]
          },
          "metadata": {},
          "execution_count": 37
        }
      ],
      "source": [
        "df.describe()"
      ]
    },
    {
      "cell_type": "code",
      "execution_count": 38,
      "metadata": {
        "id": "fhjUphw2Mt4M"
      },
      "outputs": [],
      "source": [
        "# dropping Y from X\n",
        "X = df.drop('Y_Subtracted_builtup_11_05', axis=1)\n",
        "Y = df['Y_Subtracted_builtup_11_05']"
      ]
    },
    {
      "cell_type": "code",
      "execution_count": 39,
      "metadata": {
        "id": "lF4Cti7zEAil"
      },
      "outputs": [],
      "source": [
        "X_train, X_test, y_train, y_test = train_test_split(X, Y, random_state=0, train_size = .80)"
      ]
    },
    {
      "cell_type": "code",
      "execution_count": 40,
      "metadata": {
        "id": "M-mLRLeZN62g"
      },
      "outputs": [],
      "source": [
        "params = {\n",
        "            'max_depth': 6,\n",
        "            'learning_rate': .3,\n",
        "        }\n",
        "\n",
        "xgb_model=XGBClassifier(**params)\n",
        "model=xgb_model.fit(X_train,y_train)"
      ]
    },
    {
      "cell_type": "code",
      "execution_count": 41,
      "metadata": {
        "id": "8ZpvBMroUZgR"
      },
      "outputs": [],
      "source": [
        "# Predicting the Test set results\n",
        "y_pred = model.predict(X_test)"
      ]
    },
    {
      "cell_type": "markdown",
      "metadata": {
        "id": "1DWdLct2ymhR"
      },
      "source": [
        "Import some metrics and checking models' score"
      ]
    },
    {
      "cell_type": "code",
      "execution_count": 42,
      "metadata": {
        "colab": {
          "base_uri": "https://localhost:8080/"
        },
        "id": "cbRgg17TUZ8C",
        "outputId": "433e68e3-b9fd-4a45-9754-abb60aa9b694"
      },
      "outputs": [
        {
          "output_type": "stream",
          "name": "stdout",
          "text": [
            "Type = <class 'xgboost.sklearn.XGBClassifier'>\n",
            "Precision = 0.9682693472519711\n",
            "Recall = 0.9529418009406387\n",
            "Accuracy = 0.989614853506244\n"
          ]
        }
      ],
      "source": [
        "#Import some metrics.\n",
        "from sklearn.metrics import precision_score, recall_score, accuracy_score\n",
        "print(\"Type = {}\".format(type(model)))\n",
        "print(\"Precision = {}\".format(precision_score(y_test, y_pred, average='macro')))\n",
        "print(\"Recall = {}\".format(recall_score(y_test, y_pred, average='macro')))\n",
        "print(\"Accuracy = {}\".format(accuracy_score(y_test, y_pred)))\n"
      ]
    },
    {
      "cell_type": "code",
      "execution_count": 43,
      "metadata": {
        "colab": {
          "base_uri": "https://localhost:8080/",
          "height": 490
        },
        "id": "HKFIhp8_UkWi",
        "outputId": "94513c77-1f8f-4226-8ab6-88d4a9cbf565"
      },
      "outputs": [
        {
          "output_type": "execute_result",
          "data": {
            "text/plain": [
              "<Axes: title={'center': 'Feature importance'}, xlabel='F score', ylabel='Features'>"
            ]
          },
          "metadata": {},
          "execution_count": 43
        },
        {
          "output_type": "display_data",
          "data": {
            "text/plain": [
              "<Figure size 640x480 with 1 Axes>"
            ],
            "image/png": "[encoded data removed]"
          },
          "metadata": {}
        }
      ],
      "source": [
        "from xgboost import plot_importance\n",
        "plot_importance(xgb_model)"
      ]
    },
    {
      "cell_type": "markdown",
      "metadata": {
        "id": "pAtvc1grx21B"
      },
      "source": [
        "Select parameters with `GridSearch`"
      ]
    },
    {
      "cell_type": "markdown",
      "metadata": {
        "id": "AdSoDyjvyKbK"
      },
      "source": [
        "**Prediction of the Urbanised Map**"
      ]
    },
    {
      "cell_type": "code",
      "execution_count": 44,
      "metadata": {
        "id": "zNHWhmf5t4gi"
      },
      "outputs": [],
      "source": [
        "y_pred = model.predict(X)\n",
        "y_pred = np.reshape(y_pred,(l,w)).astype(np.float32)"
      ]
    },
    {
      "cell_type": "markdown",
      "metadata": {
        "id": "epZOrr3-yaUT"
      },
      "source": [
        "Converting predicted array to tiff image"
      ]
    },
    {
      "cell_type": "code",
      "execution_count": 45,
      "metadata": {
        "id": "obY2qmk2WJPw"
      },
      "outputs": [],
      "source": [
        "def write_geotiff(filename, arr, in_ds):\n",
        "    if arr.dtype == np.float32:\n",
        "        arr_type = gdal.GDT_Float32\n",
        "    else:\n",
        "        arr_type = gdal.GDT_Int32\n",
        "\n",
        "    driver = gdal.GetDriverByName(\"GTiff\")\n",
        "    out_ds = driver.Create(filename, arr.shape[1], arr.shape[0], 1, arr_type)\n",
        "    out_ds.SetProjection(in_ds.GetProjection())\n",
        "    out_ds.SetGeoTransform(in_ds.GetGeoTransform())\n",
        "    band = out_ds.GetRasterBand(1)\n",
        "    band.WriteArray(arr)\n",
        "    band.FlushCache()\n",
        "    band.ComputeStatistics(False)"
      ]
    },
    {
      "cell_type": "code",
      "execution_count": 46,
      "metadata": {
        "id": "y-rqDBE6WTmy"
      },
      "outputs": [],
      "source": [
        "write_geotiff('Predicted_subtracted_0.3_difference_withoutSlope.tiff',y_pred,Subtracted_builtup_05_06_gdal_data)"
      ]
    },
    {
      "cell_type": "code",
      "execution_count": 49,
      "metadata": {
        "id": "WIm1nZqBx7FH"
      },
      "outputs": [],
      "source": [
        "from sklearn.model_selection import GridSearchCV\n",
        "\n",
        "clf = XGBClassifier()\n",
        "parameters = {\n",
        "     \"eta\"    : [0.05, 0.10, 0.15, 0.20, 0.25, 0.30 ],\n",
        "     \"max_depth\"        : [ 3, 4, 5, 6, 8, 10, 12, 15],\n",
        "     \"min_child_weight\" : [ 1, 3, 5, 7 ],\n",
        "     \"gamma\"            : [ 0.0, 0.1, 0.2 , 0.3, 0.4 ],\n",
        "     \"colsample_bytree\" : [ 0.3, 0.4, 0.5 , 0.7 ],\n",
        "     \"n_estimators\"     : [10, 20, 30]\n",
        "     }\n",
        "\n",
        "grid = GridSearchCV(clf, parameters, n_jobs=10, cv=3, verbose=3)"
      ]
    },
    {
      "cell_type": "code",
      "execution_count": null,
      "metadata": {
        "id": "dfXdBtdyx_fq"
      },
      "outputs": [],
      "source": [
        "grid.fit(X_train, y_train)"
      ]
    },
    {
      "cell_type": "code",
      "execution_count": null,
      "metadata": {
        "id": "N4igVon9DoEg"
      },
      "outputs": [],
      "source": [
        "# def get_upper_left_coordinate(tiff_path):\n",
        "#     dataset = gdal.Open(tiff_path)\n",
        "#     geotransform = dataset.GetGeoTransform()\n",
        "#     x = geotransform[0]\n",
        "#     y = geotransform[3]\n",
        "\n",
        "#     return (x,y)\n",
        "\n",
        "# get_upper_left_coordinate('/content/drive/MyDrive/AdjustedData_23_metre_Resolution/11_12_builtup.tif')"
      ]
    },
    {
      "cell_type": "code",
      "execution_count": null,
      "metadata": {
        "id": "VQBNwvRQvCfI"
      },
      "outputs": [],
      "source": [
        "# import os\n",
        "# from osgeo import gdal\n",
        "# from osgeo import osr\n",
        "# import numpy\n",
        "\n",
        "# # config\n",
        "# GDAL_DATA_TYPE = gdal.GDT_Float32\n",
        "# GEOTIFF_DRIVER_NAME = r'GTiff'\n",
        "# NO_DATA = 0\n",
        "# SPATIAL_REFERENCE_SYSTEM_WKID = 4326\n",
        "\n",
        "# def create_raster(output_path,\n",
        "#                   columns,\n",
        "#                   rows,\n",
        "#                   nband = 1,\n",
        "#                   gdal_data_type = GDAL_DATA_TYPE,\n",
        "#                   driver = GEOTIFF_DRIVER_NAME):\n",
        "#     ''' returns gdal data source raster object\n",
        "\n",
        "#     '''\n",
        "#     # create driver\n",
        "#     driver = gdal.GetDriverByName(driver)\n",
        "\n",
        "#     output_raster = driver.Create(output_path,\n",
        "#                                   int(columns),\n",
        "#                                   int(rows),\n",
        "#                                   nband,\n",
        "#                                   eType = gdal_data_type)\n",
        "#     return output_raster\n",
        "\n",
        "# def numpy_array_to_raster(output_path,numpy_array,upper_left_tuple,cell_resolution,nband = 1,no_data = NO_DATA,gdal_data_type = GDAL_DATA_TYPE,spatial_reference_system_wkid = SPATIAL_REFERENCE_SYSTEM_WKID,driver = GEOTIFF_DRIVER_NAME):\n",
        "\n",
        "#     (rows, columns) = numpy_array.shape\n",
        "\n",
        "#     output_raster = create_raster(output_path,int(columns),int(rows),nband,gdal_data_type)\n",
        "\n",
        "#     geotransform = (upper_left_tuple[0],cell_resolution,-1* cell_resolution,upper_left_tuple[1],-1 *(cell_resolution),0)\n",
        "\n",
        "#     spatial_reference = osr.SpatialReference()\n",
        "#     spatial_reference.ImportFromEPSG(spatial_reference_system_wkid)\n",
        "#     output_raster.SetProjection(spatial_reference.ExportToWkt())\n",
        "#     output_raster.SetGeoTransform(geotransform)\n",
        "#     output_band = output_raster.GetRasterBand(1)\n",
        "#     output_band.WriteArray(numpy_array)\n",
        "#     output_band.FlushCache()\n",
        "#     output_band.ComputeStatistics(False)\n",
        "\n",
        "#     if os.path.exists(output_path) == False:\n",
        "#         raise Exception('Failed to create raster: %s' % output_path)\n",
        "\n",
        "#     return  output_raster\n",
        "\n"
      ]
    },
    {
      "cell_type": "code",
      "execution_count": null,
      "metadata": {
        "id": "gR8Dhh_8CsFq"
      },
      "outputs": [],
      "source": [
        "# upper_left_tuple = get_upper_left_coordinate(\"/content/drive/MyDrive/AdjustedData_23_metre_Resolution/05_06_builtup.tif\")\n",
        "# pixel_res = 0.0002262608069164277378\n",
        "# numpy_array_to_raster('Final.tiff',builtup_05_06,upper_left_tuple,pixel_res)\n",
        "\n"
      ]
    }
  ],
  "metadata": {
    "accelerator": "GPU",
    "colab": {
      "provenance": [],
      "include_colab_link": true
    },
    "kernelspec": {
      "display_name": "Python 3",
      "name": "python3"
    },
    "language_info": {
      "name": "python"
    }
  },
  "nbformat": 4,
  "nbformat_minor": 0
}